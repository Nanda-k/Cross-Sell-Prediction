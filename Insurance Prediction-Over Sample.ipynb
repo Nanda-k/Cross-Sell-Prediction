{
 "cells": [
  {
   "cell_type": "code",
   "execution_count": 5,
   "metadata": {},
   "outputs": [],
   "source": [
    "import numpy as np\n",
    "import pandas as pd\n",
    "import matplotlib.pyplot as plt\n",
    "import seaborn as sns\n",
    "from imblearn.over_sampling import RandomOverSampler\n",
    "sns.set(style='whitegrid')"
   ]
  },
  {
   "cell_type": "code",
   "execution_count": 6,
   "metadata": {},
   "outputs": [],
   "source": [
    "train=pd.read_csv('train.csv')\n",
    "test=pd.read_csv('test.csv')"
   ]
  },
  {
   "cell_type": "code",
   "execution_count": 7,
   "metadata": {},
   "outputs": [
    {
     "data": {
      "text/html": [
       "<div>\n",
       "<style scoped>\n",
       "    .dataframe tbody tr th:only-of-type {\n",
       "        vertical-align: middle;\n",
       "    }\n",
       "\n",
       "    .dataframe tbody tr th {\n",
       "        vertical-align: top;\n",
       "    }\n",
       "\n",
       "    .dataframe thead th {\n",
       "        text-align: right;\n",
       "    }\n",
       "</style>\n",
       "<table border=\"1\" class=\"dataframe\">\n",
       "  <thead>\n",
       "    <tr style=\"text-align: right;\">\n",
       "      <th></th>\n",
       "      <th>id</th>\n",
       "      <th>Gender</th>\n",
       "      <th>Age</th>\n",
       "      <th>Driving_License</th>\n",
       "      <th>Region_Code</th>\n",
       "      <th>Previously_Insured</th>\n",
       "      <th>Vehicle_Age</th>\n",
       "      <th>Vehicle_Damage</th>\n",
       "      <th>Annual_Premium</th>\n",
       "      <th>Policy_Sales_Channel</th>\n",
       "      <th>Vintage</th>\n",
       "      <th>Response</th>\n",
       "    </tr>\n",
       "  </thead>\n",
       "  <tbody>\n",
       "    <tr>\n",
       "      <th>0</th>\n",
       "      <td>1</td>\n",
       "      <td>Male</td>\n",
       "      <td>44</td>\n",
       "      <td>1</td>\n",
       "      <td>28.0</td>\n",
       "      <td>0</td>\n",
       "      <td>&gt; 2 Years</td>\n",
       "      <td>Yes</td>\n",
       "      <td>40454.0</td>\n",
       "      <td>26.0</td>\n",
       "      <td>217</td>\n",
       "      <td>1</td>\n",
       "    </tr>\n",
       "    <tr>\n",
       "      <th>1</th>\n",
       "      <td>2</td>\n",
       "      <td>Male</td>\n",
       "      <td>76</td>\n",
       "      <td>1</td>\n",
       "      <td>3.0</td>\n",
       "      <td>0</td>\n",
       "      <td>1-2 Year</td>\n",
       "      <td>No</td>\n",
       "      <td>33536.0</td>\n",
       "      <td>26.0</td>\n",
       "      <td>183</td>\n",
       "      <td>0</td>\n",
       "    </tr>\n",
       "    <tr>\n",
       "      <th>2</th>\n",
       "      <td>3</td>\n",
       "      <td>Male</td>\n",
       "      <td>47</td>\n",
       "      <td>1</td>\n",
       "      <td>28.0</td>\n",
       "      <td>0</td>\n",
       "      <td>&gt; 2 Years</td>\n",
       "      <td>Yes</td>\n",
       "      <td>38294.0</td>\n",
       "      <td>26.0</td>\n",
       "      <td>27</td>\n",
       "      <td>1</td>\n",
       "    </tr>\n",
       "    <tr>\n",
       "      <th>3</th>\n",
       "      <td>4</td>\n",
       "      <td>Male</td>\n",
       "      <td>21</td>\n",
       "      <td>1</td>\n",
       "      <td>11.0</td>\n",
       "      <td>1</td>\n",
       "      <td>&lt; 1 Year</td>\n",
       "      <td>No</td>\n",
       "      <td>28619.0</td>\n",
       "      <td>152.0</td>\n",
       "      <td>203</td>\n",
       "      <td>0</td>\n",
       "    </tr>\n",
       "    <tr>\n",
       "      <th>4</th>\n",
       "      <td>5</td>\n",
       "      <td>Female</td>\n",
       "      <td>29</td>\n",
       "      <td>1</td>\n",
       "      <td>41.0</td>\n",
       "      <td>1</td>\n",
       "      <td>&lt; 1 Year</td>\n",
       "      <td>No</td>\n",
       "      <td>27496.0</td>\n",
       "      <td>152.0</td>\n",
       "      <td>39</td>\n",
       "      <td>0</td>\n",
       "    </tr>\n",
       "  </tbody>\n",
       "</table>\n",
       "</div>"
      ],
      "text/plain": [
       "   id  Gender  Age  Driving_License  Region_Code  Previously_Insured  \\\n",
       "0   1    Male   44                1         28.0                   0   \n",
       "1   2    Male   76                1          3.0                   0   \n",
       "2   3    Male   47                1         28.0                   0   \n",
       "3   4    Male   21                1         11.0                   1   \n",
       "4   5  Female   29                1         41.0                   1   \n",
       "\n",
       "  Vehicle_Age Vehicle_Damage  Annual_Premium  Policy_Sales_Channel  Vintage  \\\n",
       "0   > 2 Years            Yes         40454.0                  26.0      217   \n",
       "1    1-2 Year             No         33536.0                  26.0      183   \n",
       "2   > 2 Years            Yes         38294.0                  26.0       27   \n",
       "3    < 1 Year             No         28619.0                 152.0      203   \n",
       "4    < 1 Year             No         27496.0                 152.0       39   \n",
       "\n",
       "   Response  \n",
       "0         1  \n",
       "1         0  \n",
       "2         1  \n",
       "3         0  \n",
       "4         0  "
      ]
     },
     "execution_count": 7,
     "metadata": {},
     "output_type": "execute_result"
    }
   ],
   "source": [
    "train.head()"
   ]
  },
  {
   "cell_type": "code",
   "execution_count": 4,
   "metadata": {},
   "outputs": [
    {
     "data": {
      "text/plain": [
       "(381109, 12)"
      ]
     },
     "execution_count": 4,
     "metadata": {},
     "output_type": "execute_result"
    }
   ],
   "source": [
    "train.shape"
   ]
  },
  {
   "cell_type": "code",
   "execution_count": 5,
   "metadata": {},
   "outputs": [
    {
     "data": {
      "text/plain": [
       "id                      0\n",
       "Gender                  0\n",
       "Age                     0\n",
       "Driving_License         0\n",
       "Region_Code             0\n",
       "Previously_Insured      0\n",
       "Vehicle_Age             0\n",
       "Vehicle_Damage          0\n",
       "Annual_Premium          0\n",
       "Policy_Sales_Channel    0\n",
       "Vintage                 0\n",
       "Response                0\n",
       "dtype: int64"
      ]
     },
     "execution_count": 5,
     "metadata": {},
     "output_type": "execute_result"
    }
   ],
   "source": [
    "train.isnull().sum()"
   ]
  },
  {
   "cell_type": "code",
   "execution_count": 6,
   "metadata": {},
   "outputs": [
    {
     "data": {
      "text/plain": [
       "id                        int64\n",
       "Gender                   object\n",
       "Age                       int64\n",
       "Driving_License           int64\n",
       "Region_Code             float64\n",
       "Previously_Insured        int64\n",
       "Vehicle_Age              object\n",
       "Vehicle_Damage           object\n",
       "Annual_Premium          float64\n",
       "Policy_Sales_Channel    float64\n",
       "Vintage                   int64\n",
       "Response                  int64\n",
       "dtype: object"
      ]
     },
     "execution_count": 6,
     "metadata": {},
     "output_type": "execute_result"
    }
   ],
   "source": [
    "train.dtypes"
   ]
  },
  {
   "cell_type": "code",
   "execution_count": 7,
   "metadata": {},
   "outputs": [],
   "source": [
    "numerical_columns=['Age', 'Region_Code','Annual_Premium','Vintage']\n",
    "categorical_columns=['Gender','Driving_License','Previously_Insured','Vehicle_Age','Vehicle_Damage','Response']"
   ]
  },
  {
   "cell_type": "code",
   "execution_count": 8,
   "metadata": {},
   "outputs": [
    {
     "data": {
      "text/html": [
       "<div>\n",
       "<style scoped>\n",
       "    .dataframe tbody tr th:only-of-type {\n",
       "        vertical-align: middle;\n",
       "    }\n",
       "\n",
       "    .dataframe tbody tr th {\n",
       "        vertical-align: top;\n",
       "    }\n",
       "\n",
       "    .dataframe thead th {\n",
       "        text-align: right;\n",
       "    }\n",
       "</style>\n",
       "<table border=\"1\" class=\"dataframe\">\n",
       "  <thead>\n",
       "    <tr style=\"text-align: right;\">\n",
       "      <th></th>\n",
       "      <th>Age</th>\n",
       "      <th>Region_Code</th>\n",
       "      <th>Annual_Premium</th>\n",
       "      <th>Vintage</th>\n",
       "    </tr>\n",
       "  </thead>\n",
       "  <tbody>\n",
       "    <tr>\n",
       "      <th>count</th>\n",
       "      <td>381109.000000</td>\n",
       "      <td>381109.000000</td>\n",
       "      <td>381109.000000</td>\n",
       "      <td>381109.000000</td>\n",
       "    </tr>\n",
       "    <tr>\n",
       "      <th>mean</th>\n",
       "      <td>38.822584</td>\n",
       "      <td>26.388807</td>\n",
       "      <td>30564.389581</td>\n",
       "      <td>154.347397</td>\n",
       "    </tr>\n",
       "    <tr>\n",
       "      <th>std</th>\n",
       "      <td>15.511611</td>\n",
       "      <td>13.229888</td>\n",
       "      <td>17213.155057</td>\n",
       "      <td>83.671304</td>\n",
       "    </tr>\n",
       "    <tr>\n",
       "      <th>min</th>\n",
       "      <td>20.000000</td>\n",
       "      <td>0.000000</td>\n",
       "      <td>2630.000000</td>\n",
       "      <td>10.000000</td>\n",
       "    </tr>\n",
       "    <tr>\n",
       "      <th>25%</th>\n",
       "      <td>25.000000</td>\n",
       "      <td>15.000000</td>\n",
       "      <td>24405.000000</td>\n",
       "      <td>82.000000</td>\n",
       "    </tr>\n",
       "    <tr>\n",
       "      <th>50%</th>\n",
       "      <td>36.000000</td>\n",
       "      <td>28.000000</td>\n",
       "      <td>31669.000000</td>\n",
       "      <td>154.000000</td>\n",
       "    </tr>\n",
       "    <tr>\n",
       "      <th>75%</th>\n",
       "      <td>49.000000</td>\n",
       "      <td>35.000000</td>\n",
       "      <td>39400.000000</td>\n",
       "      <td>227.000000</td>\n",
       "    </tr>\n",
       "    <tr>\n",
       "      <th>max</th>\n",
       "      <td>85.000000</td>\n",
       "      <td>52.000000</td>\n",
       "      <td>540165.000000</td>\n",
       "      <td>299.000000</td>\n",
       "    </tr>\n",
       "  </tbody>\n",
       "</table>\n",
       "</div>"
      ],
      "text/plain": [
       "                 Age    Region_Code  Annual_Premium        Vintage\n",
       "count  381109.000000  381109.000000   381109.000000  381109.000000\n",
       "mean       38.822584      26.388807    30564.389581     154.347397\n",
       "std        15.511611      13.229888    17213.155057      83.671304\n",
       "min        20.000000       0.000000     2630.000000      10.000000\n",
       "25%        25.000000      15.000000    24405.000000      82.000000\n",
       "50%        36.000000      28.000000    31669.000000     154.000000\n",
       "75%        49.000000      35.000000    39400.000000     227.000000\n",
       "max        85.000000      52.000000   540165.000000     299.000000"
      ]
     },
     "execution_count": 8,
     "metadata": {},
     "output_type": "execute_result"
    }
   ],
   "source": [
    "train[numerical_columns].describe()"
   ]
  },
  {
   "cell_type": "code",
   "execution_count": 9,
   "metadata": {},
   "outputs": [
    {
     "name": "stderr",
     "output_type": "stream",
     "text": [
      "/Library/Frameworks/Python.framework/Versions/3.8/lib/python3.8/site-packages/seaborn/_decorators.py:36: FutureWarning: Pass the following variable as a keyword arg: x. From version 0.12, the only valid positional argument will be `data`, and passing other arguments without an explicit keyword will result in an error or misinterpretation.\n",
      "  warnings.warn(\n"
     ]
    },
    {
     "data": {
      "text/plain": [
       "<AxesSubplot:xlabel='Response', ylabel='count'>"
      ]
     },
     "execution_count": 9,
     "metadata": {},
     "output_type": "execute_result"
    },
    {
     "data": {
      "image/png": "[encoded data removed]",
      "text/plain": [
       "<Figure size 432x288 with 1 Axes>"
      ]
     },
     "metadata": {},
     "output_type": "display_data"
    }
   ],
   "source": [
    "sns.countplot(train.Response)"
   ]
  },
  {
   "cell_type": "code",
   "execution_count": 10,
   "metadata": {},
   "outputs": [
    {
     "data": {
      "text/plain": [
       "0    334399\n",
       "1     46710\n",
       "Name: Response, dtype: int64"
      ]
     },
     "execution_count": 10,
     "metadata": {},
     "output_type": "execute_result"
    }
   ],
   "source": [
    "train.Response.value_counts()"
   ]
  },
  {
   "cell_type": "code",
   "execution_count": 11,
   "metadata": {},
   "outputs": [
    {
     "name": "stderr",
     "output_type": "stream",
     "text": [
      "/Library/Frameworks/Python.framework/Versions/3.8/lib/python3.8/site-packages/seaborn/distributions.py:2551: FutureWarning: `distplot` is a deprecated function and will be removed in a future version. Please adapt your code to use either `displot` (a figure-level function with similar flexibility) or `histplot` (an axes-level function for histograms).\n",
      "  warnings.warn(msg, FutureWarning)\n"
     ]
    },
    {
     "data": {
      "text/plain": [
       "<AxesSubplot:xlabel='Age', ylabel='Density'>"
      ]
     },
     "execution_count": 11,
     "metadata": {},
     "output_type": "execute_result"
    },
    {
     "data": {
      "image/png": "[encoded data removed]",
      "text/plain": [
       "<Figure size 432x288 with 1 Axes>"
      ]
     },
     "metadata": {},
     "output_type": "display_data"
    }
   ],
   "source": [
    "sns.distplot(train.Age)"
   ]
  },
  {
   "cell_type": "code",
   "execution_count": 12,
   "metadata": {},
   "outputs": [
    {
     "data": {
      "text/plain": [
       "<AxesSubplot:ylabel='Age'>"
      ]
     },
     "execution_count": 12,
     "metadata": {},
     "output_type": "execute_result"
    },
    {
     "data": {
      "image/png": "[encoded data removed]",
      "text/plain": [
       "<Figure size 432x288 with 1 Axes>"
      ]
     },
     "metadata": {},
     "output_type": "display_data"
    }
   ],
   "source": [
    "sns.boxplot(y = 'Age', data = train,palette='Accent')"
   ]
  },
  {
   "cell_type": "code",
   "execution_count": 14,
   "metadata": {},
   "outputs": [
    {
     "data": {
      "text/plain": [
       "<AxesSubplot:xlabel='Age', ylabel='Annual_Premium'>"
      ]
     },
     "execution_count": 14,
     "metadata": {},
     "output_type": "execute_result"
    },
    {
     "data": {
      "image/png": "[encoded data removed]",
      "text/plain": [
       "<Figure size 432x288 with 1 Axes>"
      ]
     },
     "metadata": {},
     "output_type": "display_data"
    }
   ],
   "source": [
    "sns.scatterplot(x=train['Age'],y=train['Annual_Premium'])"
   ]
  },
  {
   "cell_type": "code",
   "execution_count": 13,
   "metadata": {},
   "outputs": [
    {
     "name": "stderr",
     "output_type": "stream",
     "text": [
      "/Library/Frameworks/Python.framework/Versions/3.8/lib/python3.8/site-packages/seaborn/_decorators.py:36: FutureWarning: Pass the following variable as a keyword arg: x. From version 0.12, the only valid positional argument will be `data`, and passing other arguments without an explicit keyword will result in an error or misinterpretation.\n",
      "  warnings.warn(\n"
     ]
    },
    {
     "data": {
      "text/plain": [
       "<AxesSubplot:xlabel='Gender', ylabel='count'>"
      ]
     },
     "execution_count": 13,
     "metadata": {},
     "output_type": "execute_result"
    },
    {
     "data": {
      "image/png": "[encoded data removed]",
      "text/plain": [
       "<Figure size 432x288 with 1 Axes>"
      ]
     },
     "metadata": {},
     "output_type": "display_data"
    }
   ],
   "source": [
    "sns.countplot(train.Gender)"
   ]
  },
  {
   "cell_type": "code",
   "execution_count": 14,
   "metadata": {},
   "outputs": [],
   "source": [
    "df=train.groupby(['Gender','Response'])['id'].count().to_frame().rename(columns={'id':'count'}).reset_index()"
   ]
  },
  {
   "cell_type": "code",
   "execution_count": 15,
   "metadata": {},
   "outputs": [
    {
     "data": {
      "image/png": "[encoded data removed]",
      "text/plain": [
       "<Figure size 403.2x288 with 2 Axes>"
      ]
     },
     "metadata": {},
     "output_type": "display_data"
    }
   ],
   "source": [
    "g = sns.catplot(x=\"Gender\", y=\"count\",col=\"Response\",\n",
    "                data=df, kind=\"bar\",\n",
    "                height=4, aspect=.7);"
   ]
  },
  {
   "cell_type": "code",
   "execution_count": 16,
   "metadata": {},
   "outputs": [],
   "source": [
    "df=train.groupby(['Gender'])['Driving_License'].count().to_frame().reset_index()"
   ]
  },
  {
   "cell_type": "code",
   "execution_count": 17,
   "metadata": {},
   "outputs": [
    {
     "data": {
      "image/png": "[encoded data removed]",
      "text/plain": [
       "<Figure size 360x360 with 1 Axes>"
      ]
     },
     "metadata": {},
     "output_type": "display_data"
    }
   ],
   "source": [
    "sns.catplot(x=\"Gender\", y=\"Driving_License\",\n",
    "                data=df, kind=\"bar\");"
   ]
  },
  {
   "cell_type": "code",
   "execution_count": 18,
   "metadata": {},
   "outputs": [
    {
     "name": "stderr",
     "output_type": "stream",
     "text": [
      "/Library/Frameworks/Python.framework/Versions/3.8/lib/python3.8/site-packages/seaborn/_decorators.py:36: FutureWarning: Pass the following variable as a keyword arg: x. From version 0.12, the only valid positional argument will be `data`, and passing other arguments without an explicit keyword will result in an error or misinterpretation.\n",
      "  warnings.warn(\n"
     ]
    },
    {
     "data": {
      "text/plain": [
       "<AxesSubplot:xlabel='Previously_Insured', ylabel='count'>"
      ]
     },
     "execution_count": 18,
     "metadata": {},
     "output_type": "execute_result"
    },
    {
     "data": {
      "image/png": "[encoded data removed]",
      "text/plain": [
       "<Figure size 432x288 with 1 Axes>"
      ]
     },
     "metadata": {},
     "output_type": "display_data"
    }
   ],
   "source": [
    "sns.countplot(train.Previously_Insured)"
   ]
  },
  {
   "cell_type": "code",
   "execution_count": 19,
   "metadata": {},
   "outputs": [
    {
     "name": "stderr",
     "output_type": "stream",
     "text": [
      "/Library/Frameworks/Python.framework/Versions/3.8/lib/python3.8/site-packages/seaborn/_decorators.py:36: FutureWarning: Pass the following variable as a keyword arg: x. From version 0.12, the only valid positional argument will be `data`, and passing other arguments without an explicit keyword will result in an error or misinterpretation.\n",
      "  warnings.warn(\n"
     ]
    },
    {
     "data": {
      "text/plain": [
       "<AxesSubplot:xlabel='Vehicle_Age', ylabel='count'>"
      ]
     },
     "execution_count": 19,
     "metadata": {},
     "output_type": "execute_result"
    },
    {
     "data": {
      "image/png": "[encoded data removed]",
      "text/plain": [
       "<Figure size 432x288 with 1 Axes>"
      ]
     },
     "metadata": {},
     "output_type": "display_data"
    }
   ],
   "source": [
    "sns.countplot(train.Vehicle_Age)"
   ]
  },
  {
   "cell_type": "markdown",
   "metadata": {},
   "source": [
    "## Data Pre-Processing "
   ]
  },
  {
   "cell_type": "code",
   "execution_count": 20,
   "metadata": {},
   "outputs": [],
   "source": [
    "num_feat = ['Age','Vintage']\n",
    "cat_feat = ['Gender', 'Driving_License', 'Previously_Insured', 'Vehicle_Age_lt_1_Year','Vehicle_Age_gt_2_Years','Vehicle_Damage_Yes','Region_Code','Policy_Sales_Channel']"
   ]
  },
  {
   "cell_type": "code",
   "execution_count": 21,
   "metadata": {},
   "outputs": [],
   "source": [
    "train['Gender'] = train['Gender'].map( {'Female': 0, 'Male': 1} ).astype(int)"
   ]
  },
  {
   "cell_type": "code",
   "execution_count": 22,
   "metadata": {},
   "outputs": [],
   "source": [
    "train=pd.get_dummies(train,drop_first=True)"
   ]
  },
  {
   "cell_type": "code",
   "execution_count": 23,
   "metadata": {},
   "outputs": [],
   "source": [
    "train=train.rename(columns={\"Vehicle_Age_< 1 Year\": \"Vehicle_Age_lt_1_Year\", \"Vehicle_Age_> 2 Years\": \"Vehicle_Age_gt_2_Years\"})\n",
    "train['Vehicle_Age_lt_1_Year']=train['Vehicle_Age_lt_1_Year'].astype('int')\n",
    "train['Vehicle_Age_gt_2_Years']=train['Vehicle_Age_gt_2_Years'].astype('int')\n",
    "train['Vehicle_Damage_Yes']=train['Vehicle_Damage_Yes'].astype('int')"
   ]
  },
  {
   "cell_type": "code",
   "execution_count": 24,
   "metadata": {},
   "outputs": [],
   "source": [
    "from sklearn.preprocessing import LabelEncoder, StandardScaler, MinMaxScaler, RobustScaler\n",
    "ss = StandardScaler()\n",
    "train[num_feat] = ss.fit_transform(train[num_feat])\n",
    "\n",
    "\n",
    "mm = MinMaxScaler()\n",
    "train[['Annual_Premium']] = mm.fit_transform(train[['Annual_Premium']])"
   ]
  },
  {
   "cell_type": "code",
   "execution_count": 25,
   "metadata": {},
   "outputs": [],
   "source": [
    "train=train.drop('id',axis=1)"
   ]
  },
  {
   "cell_type": "code",
   "execution_count": 26,
   "metadata": {},
   "outputs": [],
   "source": [
    "for column in cat_feat:\n",
    "    train[column] = train[column].astype('str')"
   ]
  },
  {
   "cell_type": "code",
   "execution_count": 27,
   "metadata": {},
   "outputs": [],
   "source": [
    "test['Gender'] = test['Gender'].map( {'Female': 0, 'Male': 1} ).astype(int)\n",
    "test=pd.get_dummies(test,drop_first=True)\n",
    "test=test.rename(columns={\"Vehicle_Age_< 1 Year\": \"Vehicle_Age_lt_1_Year\", \"Vehicle_Age_> 2 Years\": \"Vehicle_Age_gt_2_Years\"})\n",
    "test['Vehicle_Age_lt_1_Year']=test['Vehicle_Age_lt_1_Year'].astype('int')\n",
    "test['Vehicle_Age_gt_2_Years']=test['Vehicle_Age_gt_2_Years'].astype('int')\n",
    "test['Vehicle_Damage_Yes']=test['Vehicle_Damage_Yes'].astype('int')"
   ]
  },
  {
   "cell_type": "code",
   "execution_count": 28,
   "metadata": {},
   "outputs": [],
   "source": [
    "from sklearn.preprocessing import LabelEncoder, StandardScaler, MinMaxScaler, RobustScaler\n",
    "ss = StandardScaler()\n",
    "test[num_feat] = ss.fit_transform(test[num_feat])\n",
    "\n",
    "\n",
    "mm = MinMaxScaler()\n",
    "test[['Annual_Premium']] = mm.fit_transform(test[['Annual_Premium']])"
   ]
  },
  {
   "cell_type": "code",
   "execution_count": 29,
   "metadata": {},
   "outputs": [],
   "source": [
    "for column in cat_feat:\n",
    "    test[column] = test[column].astype('str')"
   ]
  },
  {
   "cell_type": "code",
   "execution_count": 30,
   "metadata": {},
   "outputs": [],
   "source": [
    "from sklearn.model_selection import train_test_split\n",
    "\n",
    "train_target=train['Response']\n",
    "train=train.drop(['Response'], axis = 1)\n",
    "x_train,x_test,y_train,y_test = train_test_split(train,train_target, random_state = 0)"
   ]
  },
  {
   "cell_type": "code",
   "execution_count": 31,
   "metadata": {},
   "outputs": [],
   "source": [
    "id=test.id"
   ]
  },
  {
   "cell_type": "code",
   "execution_count": 32,
   "metadata": {},
   "outputs": [],
   "source": [
    "test=test.drop('id',axis=1)"
   ]
  },
  {
   "cell_type": "markdown",
   "metadata": {},
   "source": [
    "## Data Modelling and Evaluation "
   ]
  },
  {
   "cell_type": "code",
   "execution_count": 2,
   "metadata": {},
   "outputs": [],
   "source": [
    "from sklearn.model_selection import RandomizedSearchCV\n",
    "from sklearn.model_selection import cross_val_score\n",
    "from sklearn.ensemble import RandomForestClassifier\n",
    "from catboost import CatBoostClassifier\n",
    "from scipy.stats import randint\n",
    "import pickle\n",
    "import xgboost as xgb\n",
    "import lightgbm as lgb\n",
    "from sklearn.metrics import accuracy_score\n",
    "# import packages for hyperparameters tuning\n",
    "from hyperopt import STATUS_OK, Trials, fmin, hp, tpe\n",
    "from sklearn.model_selection import train_test_split, RandomizedSearchCV, StratifiedKFold, KFold, GridSearchCV "
   ]
  },
  {
   "cell_type": "markdown",
   "metadata": {},
   "source": [
    "## Data Preparation "
   ]
  },
  {
   "cell_type": "code",
   "execution_count": 8,
   "metadata": {},
   "outputs": [],
   "source": [
    "from sklearn.preprocessing import LabelEncoder \n",
    "labelEncoder= LabelEncoder()\n",
    "train['Gender'] = labelEncoder.fit_transform(train['Gender'])\n",
    "train['Vehicle_Age'] = labelEncoder.fit_transform(train['Vehicle_Age'])\n",
    "train['Vehicle_Damage'] = labelEncoder.fit_transform(train['Vehicle_Damage'])"
   ]
  },
  {
   "cell_type": "code",
   "execution_count": 9,
   "metadata": {},
   "outputs": [
    {
     "data": {
      "text/html": [
       "<div>\n",
       "<style scoped>\n",
       "    .dataframe tbody tr th:only-of-type {\n",
       "        vertical-align: middle;\n",
       "    }\n",
       "\n",
       "    .dataframe tbody tr th {\n",
       "        vertical-align: top;\n",
       "    }\n",
       "\n",
       "    .dataframe thead th {\n",
       "        text-align: right;\n",
       "    }\n",
       "</style>\n",
       "<table border=\"1\" class=\"dataframe\">\n",
       "  <thead>\n",
       "    <tr style=\"text-align: right;\">\n",
       "      <th></th>\n",
       "      <th>id</th>\n",
       "      <th>Gender</th>\n",
       "      <th>Age</th>\n",
       "      <th>Driving_License</th>\n",
       "      <th>Region_Code</th>\n",
       "      <th>Previously_Insured</th>\n",
       "      <th>Vehicle_Age</th>\n",
       "      <th>Vehicle_Damage</th>\n",
       "      <th>Annual_Premium</th>\n",
       "      <th>Policy_Sales_Channel</th>\n",
       "      <th>Vintage</th>\n",
       "      <th>Response</th>\n",
       "    </tr>\n",
       "  </thead>\n",
       "  <tbody>\n",
       "    <tr>\n",
       "      <th>0</th>\n",
       "      <td>1</td>\n",
       "      <td>1</td>\n",
       "      <td>44</td>\n",
       "      <td>1</td>\n",
       "      <td>28.0</td>\n",
       "      <td>0</td>\n",
       "      <td>2</td>\n",
       "      <td>1</td>\n",
       "      <td>40454.0</td>\n",
       "      <td>26.0</td>\n",
       "      <td>217</td>\n",
       "      <td>1</td>\n",
       "    </tr>\n",
       "    <tr>\n",
       "      <th>1</th>\n",
       "      <td>2</td>\n",
       "      <td>1</td>\n",
       "      <td>76</td>\n",
       "      <td>1</td>\n",
       "      <td>3.0</td>\n",
       "      <td>0</td>\n",
       "      <td>0</td>\n",
       "      <td>0</td>\n",
       "      <td>33536.0</td>\n",
       "      <td>26.0</td>\n",
       "      <td>183</td>\n",
       "      <td>0</td>\n",
       "    </tr>\n",
       "    <tr>\n",
       "      <th>2</th>\n",
       "      <td>3</td>\n",
       "      <td>1</td>\n",
       "      <td>47</td>\n",
       "      <td>1</td>\n",
       "      <td>28.0</td>\n",
       "      <td>0</td>\n",
       "      <td>2</td>\n",
       "      <td>1</td>\n",
       "      <td>38294.0</td>\n",
       "      <td>26.0</td>\n",
       "      <td>27</td>\n",
       "      <td>1</td>\n",
       "    </tr>\n",
       "    <tr>\n",
       "      <th>3</th>\n",
       "      <td>4</td>\n",
       "      <td>1</td>\n",
       "      <td>21</td>\n",
       "      <td>1</td>\n",
       "      <td>11.0</td>\n",
       "      <td>1</td>\n",
       "      <td>1</td>\n",
       "      <td>0</td>\n",
       "      <td>28619.0</td>\n",
       "      <td>152.0</td>\n",
       "      <td>203</td>\n",
       "      <td>0</td>\n",
       "    </tr>\n",
       "    <tr>\n",
       "      <th>4</th>\n",
       "      <td>5</td>\n",
       "      <td>0</td>\n",
       "      <td>29</td>\n",
       "      <td>1</td>\n",
       "      <td>41.0</td>\n",
       "      <td>1</td>\n",
       "      <td>1</td>\n",
       "      <td>0</td>\n",
       "      <td>27496.0</td>\n",
       "      <td>152.0</td>\n",
       "      <td>39</td>\n",
       "      <td>0</td>\n",
       "    </tr>\n",
       "    <tr>\n",
       "      <th>...</th>\n",
       "      <td>...</td>\n",
       "      <td>...</td>\n",
       "      <td>...</td>\n",
       "      <td>...</td>\n",
       "      <td>...</td>\n",
       "      <td>...</td>\n",
       "      <td>...</td>\n",
       "      <td>...</td>\n",
       "      <td>...</td>\n",
       "      <td>...</td>\n",
       "      <td>...</td>\n",
       "      <td>...</td>\n",
       "    </tr>\n",
       "    <tr>\n",
       "      <th>381104</th>\n",
       "      <td>381105</td>\n",
       "      <td>1</td>\n",
       "      <td>74</td>\n",
       "      <td>1</td>\n",
       "      <td>26.0</td>\n",
       "      <td>1</td>\n",
       "      <td>0</td>\n",
       "      <td>0</td>\n",
       "      <td>30170.0</td>\n",
       "      <td>26.0</td>\n",
       "      <td>88</td>\n",
       "      <td>0</td>\n",
       "    </tr>\n",
       "    <tr>\n",
       "      <th>381105</th>\n",
       "      <td>381106</td>\n",
       "      <td>1</td>\n",
       "      <td>30</td>\n",
       "      <td>1</td>\n",
       "      <td>37.0</td>\n",
       "      <td>1</td>\n",
       "      <td>1</td>\n",
       "      <td>0</td>\n",
       "      <td>40016.0</td>\n",
       "      <td>152.0</td>\n",
       "      <td>131</td>\n",
       "      <td>0</td>\n",
       "    </tr>\n",
       "    <tr>\n",
       "      <th>381106</th>\n",
       "      <td>381107</td>\n",
       "      <td>1</td>\n",
       "      <td>21</td>\n",
       "      <td>1</td>\n",
       "      <td>30.0</td>\n",
       "      <td>1</td>\n",
       "      <td>1</td>\n",
       "      <td>0</td>\n",
       "      <td>35118.0</td>\n",
       "      <td>160.0</td>\n",
       "      <td>161</td>\n",
       "      <td>0</td>\n",
       "    </tr>\n",
       "    <tr>\n",
       "      <th>381107</th>\n",
       "      <td>381108</td>\n",
       "      <td>0</td>\n",
       "      <td>68</td>\n",
       "      <td>1</td>\n",
       "      <td>14.0</td>\n",
       "      <td>0</td>\n",
       "      <td>2</td>\n",
       "      <td>1</td>\n",
       "      <td>44617.0</td>\n",
       "      <td>124.0</td>\n",
       "      <td>74</td>\n",
       "      <td>0</td>\n",
       "    </tr>\n",
       "    <tr>\n",
       "      <th>381108</th>\n",
       "      <td>381109</td>\n",
       "      <td>1</td>\n",
       "      <td>46</td>\n",
       "      <td>1</td>\n",
       "      <td>29.0</td>\n",
       "      <td>0</td>\n",
       "      <td>0</td>\n",
       "      <td>0</td>\n",
       "      <td>41777.0</td>\n",
       "      <td>26.0</td>\n",
       "      <td>237</td>\n",
       "      <td>0</td>\n",
       "    </tr>\n",
       "  </tbody>\n",
       "</table>\n",
       "<p>381109 rows × 12 columns</p>\n",
       "</div>"
      ],
      "text/plain": [
       "            id  Gender  Age  Driving_License  Region_Code  Previously_Insured  \\\n",
       "0            1       1   44                1         28.0                   0   \n",
       "1            2       1   76                1          3.0                   0   \n",
       "2            3       1   47                1         28.0                   0   \n",
       "3            4       1   21                1         11.0                   1   \n",
       "4            5       0   29                1         41.0                   1   \n",
       "...        ...     ...  ...              ...          ...                 ...   \n",
       "381104  381105       1   74                1         26.0                   1   \n",
       "381105  381106       1   30                1         37.0                   1   \n",
       "381106  381107       1   21                1         30.0                   1   \n",
       "381107  381108       0   68                1         14.0                   0   \n",
       "381108  381109       1   46                1         29.0                   0   \n",
       "\n",
       "        Vehicle_Age  Vehicle_Damage  Annual_Premium  Policy_Sales_Channel  \\\n",
       "0                 2               1         40454.0                  26.0   \n",
       "1                 0               0         33536.0                  26.0   \n",
       "2                 2               1         38294.0                  26.0   \n",
       "3                 1               0         28619.0                 152.0   \n",
       "4                 1               0         27496.0                 152.0   \n",
       "...             ...             ...             ...                   ...   \n",
       "381104            0               0         30170.0                  26.0   \n",
       "381105            1               0         40016.0                 152.0   \n",
       "381106            1               0         35118.0                 160.0   \n",
       "381107            2               1         44617.0                 124.0   \n",
       "381108            0               0         41777.0                  26.0   \n",
       "\n",
       "        Vintage  Response  \n",
       "0           217         1  \n",
       "1           183         0  \n",
       "2            27         1  \n",
       "3           203         0  \n",
       "4            39         0  \n",
       "...         ...       ...  \n",
       "381104       88         0  \n",
       "381105      131         0  \n",
       "381106      161         0  \n",
       "381107       74         0  \n",
       "381108      237         0  \n",
       "\n",
       "[381109 rows x 12 columns]"
      ]
     },
     "execution_count": 9,
     "metadata": {},
     "output_type": "execute_result"
    }
   ],
   "source": [
    "train"
   ]
  },
  {
   "cell_type": "code",
   "execution_count": 10,
   "metadata": {},
   "outputs": [
    {
     "name": "stdout",
     "output_type": "stream",
     "text": [
      "Empty DataFrame\n",
      "Columns: [id, Gender, Age, Driving_License, Region_Code, Previously_Insured, Vehicle_Age, Vehicle_Damage, Annual_Premium, Policy_Sales_Channel, Vintage, Response]\n",
      "Index: []\n"
     ]
    }
   ],
   "source": [
    "# checking for duplicates \n",
    "\n",
    "duplicate_check=train[train.duplicated()]\n",
    "print(duplicate_check)"
   ]
  },
  {
   "cell_type": "code",
   "execution_count": 11,
   "metadata": {},
   "outputs": [],
   "source": [
    "# Creating Independent and dependent variables\n",
    "\n",
    "X=train.drop(['Response','id'],axis=1) \n",
    "y=train['Response']     "
   ]
  },
  {
   "cell_type": "code",
   "execution_count": 12,
   "metadata": {},
   "outputs": [
    {
     "data": {
      "text/html": [
       "<div>\n",
       "<style scoped>\n",
       "    .dataframe tbody tr th:only-of-type {\n",
       "        vertical-align: middle;\n",
       "    }\n",
       "\n",
       "    .dataframe tbody tr th {\n",
       "        vertical-align: top;\n",
       "    }\n",
       "\n",
       "    .dataframe thead th {\n",
       "        text-align: right;\n",
       "    }\n",
       "</style>\n",
       "<table border=\"1\" class=\"dataframe\">\n",
       "  <thead>\n",
       "    <tr style=\"text-align: right;\">\n",
       "      <th></th>\n",
       "      <th>Gender</th>\n",
       "      <th>Age</th>\n",
       "      <th>Driving_License</th>\n",
       "      <th>Region_Code</th>\n",
       "      <th>Previously_Insured</th>\n",
       "      <th>Vehicle_Age</th>\n",
       "      <th>Vehicle_Damage</th>\n",
       "      <th>Annual_Premium</th>\n",
       "      <th>Policy_Sales_Channel</th>\n",
       "      <th>Vintage</th>\n",
       "    </tr>\n",
       "  </thead>\n",
       "  <tbody>\n",
       "    <tr>\n",
       "      <th>0</th>\n",
       "      <td>1</td>\n",
       "      <td>44</td>\n",
       "      <td>1</td>\n",
       "      <td>28.0</td>\n",
       "      <td>0</td>\n",
       "      <td>2</td>\n",
       "      <td>1</td>\n",
       "      <td>40454.0</td>\n",
       "      <td>26.0</td>\n",
       "      <td>217</td>\n",
       "    </tr>\n",
       "    <tr>\n",
       "      <th>1</th>\n",
       "      <td>1</td>\n",
       "      <td>76</td>\n",
       "      <td>1</td>\n",
       "      <td>3.0</td>\n",
       "      <td>0</td>\n",
       "      <td>0</td>\n",
       "      <td>0</td>\n",
       "      <td>33536.0</td>\n",
       "      <td>26.0</td>\n",
       "      <td>183</td>\n",
       "    </tr>\n",
       "    <tr>\n",
       "      <th>2</th>\n",
       "      <td>1</td>\n",
       "      <td>47</td>\n",
       "      <td>1</td>\n",
       "      <td>28.0</td>\n",
       "      <td>0</td>\n",
       "      <td>2</td>\n",
       "      <td>1</td>\n",
       "      <td>38294.0</td>\n",
       "      <td>26.0</td>\n",
       "      <td>27</td>\n",
       "    </tr>\n",
       "    <tr>\n",
       "      <th>3</th>\n",
       "      <td>1</td>\n",
       "      <td>21</td>\n",
       "      <td>1</td>\n",
       "      <td>11.0</td>\n",
       "      <td>1</td>\n",
       "      <td>1</td>\n",
       "      <td>0</td>\n",
       "      <td>28619.0</td>\n",
       "      <td>152.0</td>\n",
       "      <td>203</td>\n",
       "    </tr>\n",
       "    <tr>\n",
       "      <th>4</th>\n",
       "      <td>0</td>\n",
       "      <td>29</td>\n",
       "      <td>1</td>\n",
       "      <td>41.0</td>\n",
       "      <td>1</td>\n",
       "      <td>1</td>\n",
       "      <td>0</td>\n",
       "      <td>27496.0</td>\n",
       "      <td>152.0</td>\n",
       "      <td>39</td>\n",
       "    </tr>\n",
       "    <tr>\n",
       "      <th>...</th>\n",
       "      <td>...</td>\n",
       "      <td>...</td>\n",
       "      <td>...</td>\n",
       "      <td>...</td>\n",
       "      <td>...</td>\n",
       "      <td>...</td>\n",
       "      <td>...</td>\n",
       "      <td>...</td>\n",
       "      <td>...</td>\n",
       "      <td>...</td>\n",
       "    </tr>\n",
       "    <tr>\n",
       "      <th>381104</th>\n",
       "      <td>1</td>\n",
       "      <td>74</td>\n",
       "      <td>1</td>\n",
       "      <td>26.0</td>\n",
       "      <td>1</td>\n",
       "      <td>0</td>\n",
       "      <td>0</td>\n",
       "      <td>30170.0</td>\n",
       "      <td>26.0</td>\n",
       "      <td>88</td>\n",
       "    </tr>\n",
       "    <tr>\n",
       "      <th>381105</th>\n",
       "      <td>1</td>\n",
       "      <td>30</td>\n",
       "      <td>1</td>\n",
       "      <td>37.0</td>\n",
       "      <td>1</td>\n",
       "      <td>1</td>\n",
       "      <td>0</td>\n",
       "      <td>40016.0</td>\n",
       "      <td>152.0</td>\n",
       "      <td>131</td>\n",
       "    </tr>\n",
       "    <tr>\n",
       "      <th>381106</th>\n",
       "      <td>1</td>\n",
       "      <td>21</td>\n",
       "      <td>1</td>\n",
       "      <td>30.0</td>\n",
       "      <td>1</td>\n",
       "      <td>1</td>\n",
       "      <td>0</td>\n",
       "      <td>35118.0</td>\n",
       "      <td>160.0</td>\n",
       "      <td>161</td>\n",
       "    </tr>\n",
       "    <tr>\n",
       "      <th>381107</th>\n",
       "      <td>0</td>\n",
       "      <td>68</td>\n",
       "      <td>1</td>\n",
       "      <td>14.0</td>\n",
       "      <td>0</td>\n",
       "      <td>2</td>\n",
       "      <td>1</td>\n",
       "      <td>44617.0</td>\n",
       "      <td>124.0</td>\n",
       "      <td>74</td>\n",
       "    </tr>\n",
       "    <tr>\n",
       "      <th>381108</th>\n",
       "      <td>1</td>\n",
       "      <td>46</td>\n",
       "      <td>1</td>\n",
       "      <td>29.0</td>\n",
       "      <td>0</td>\n",
       "      <td>0</td>\n",
       "      <td>0</td>\n",
       "      <td>41777.0</td>\n",
       "      <td>26.0</td>\n",
       "      <td>237</td>\n",
       "    </tr>\n",
       "  </tbody>\n",
       "</table>\n",
       "<p>381109 rows × 10 columns</p>\n",
       "</div>"
      ],
      "text/plain": [
       "        Gender  Age  Driving_License  Region_Code  Previously_Insured  \\\n",
       "0            1   44                1         28.0                   0   \n",
       "1            1   76                1          3.0                   0   \n",
       "2            1   47                1         28.0                   0   \n",
       "3            1   21                1         11.0                   1   \n",
       "4            0   29                1         41.0                   1   \n",
       "...        ...  ...              ...          ...                 ...   \n",
       "381104       1   74                1         26.0                   1   \n",
       "381105       1   30                1         37.0                   1   \n",
       "381106       1   21                1         30.0                   1   \n",
       "381107       0   68                1         14.0                   0   \n",
       "381108       1   46                1         29.0                   0   \n",
       "\n",
       "        Vehicle_Age  Vehicle_Damage  Annual_Premium  Policy_Sales_Channel  \\\n",
       "0                 2               1         40454.0                  26.0   \n",
       "1                 0               0         33536.0                  26.0   \n",
       "2                 2               1         38294.0                  26.0   \n",
       "3                 1               0         28619.0                 152.0   \n",
       "4                 1               0         27496.0                 152.0   \n",
       "...             ...             ...             ...                   ...   \n",
       "381104            0               0         30170.0                  26.0   \n",
       "381105            1               0         40016.0                 152.0   \n",
       "381106            1               0         35118.0                 160.0   \n",
       "381107            2               1         44617.0                 124.0   \n",
       "381108            0               0         41777.0                  26.0   \n",
       "\n",
       "        Vintage  \n",
       "0           217  \n",
       "1           183  \n",
       "2            27  \n",
       "3           203  \n",
       "4            39  \n",
       "...         ...  \n",
       "381104       88  \n",
       "381105      131  \n",
       "381106      161  \n",
       "381107       74  \n",
       "381108      237  \n",
       "\n",
       "[381109 rows x 10 columns]"
      ]
     },
     "execution_count": 12,
     "metadata": {},
     "output_type": "execute_result"
    }
   ],
   "source": [
    "X"
   ]
  },
  {
   "cell_type": "code",
   "execution_count": 13,
   "metadata": {},
   "outputs": [
    {
     "data": {
      "text/plain": [
       "0         1\n",
       "1         0\n",
       "2         1\n",
       "3         0\n",
       "4         0\n",
       "         ..\n",
       "381104    0\n",
       "381105    0\n",
       "381106    0\n",
       "381107    0\n",
       "381108    0\n",
       "Name: Response, Length: 381109, dtype: int64"
      ]
     },
     "execution_count": 13,
     "metadata": {},
     "output_type": "execute_result"
    }
   ],
   "source": [
    "y"
   ]
  },
  {
   "cell_type": "markdown",
   "metadata": {},
   "source": [
    "### Handling Imbalanced Data "
   ]
  },
  {
   "cell_type": "code",
   "execution_count": 14,
   "metadata": {},
   "outputs": [
    {
     "name": "stdout",
     "output_type": "stream",
     "text": [
      "Original dataset shape Counter({0: 334399, 1: 46710})\n",
      "Resampled dataset shape Counter({1: 334399, 0: 334399})\n"
     ]
    },
    {
     "name": "stderr",
     "output_type": "stream",
     "text": [
      "/Library/Frameworks/Python.framework/Versions/3.8/lib/python3.8/site-packages/seaborn/_decorators.py:36: FutureWarning: Pass the following variable as a keyword arg: x. From version 0.12, the only valid positional argument will be `data`, and passing other arguments without an explicit keyword will result in an error or misinterpretation.\n",
      "  warnings.warn(\n"
     ]
    },
    {
     "data": {
      "text/plain": [
       "<AxesSubplot:xlabel='Response', ylabel='count'>"
      ]
     },
     "execution_count": 14,
     "metadata": {},
     "output_type": "execute_result"
    },
    {
     "data": {
      "image/png": "[encoded data removed]",
      "text/plain": [
       "<Figure size 432x288 with 1 Axes>"
      ]
     },
     "metadata": {},
     "output_type": "display_data"
    }
   ],
   "source": [
    "from imblearn.over_sampling import RandomOverSampler\n",
    "\n",
    "randomsample=  RandomOverSampler()\n",
    "X_new,y_new=randomsample.fit_resample(X,y)\n",
    "\n",
    "from collections import Counter\n",
    "print('Original dataset shape {}'.format(Counter(y)))\n",
    "print('Resampled dataset shape {}'.format(Counter(y_new)))\n",
    "sns.countplot(y_new,palette='husl')"
   ]
  },
  {
   "cell_type": "code",
   "execution_count": 15,
   "metadata": {},
   "outputs": [
    {
     "name": "stdout",
     "output_type": "stream",
     "text": [
      "(501598, 10) (167200, 10) (501598,) (167200,)\n"
     ]
    }
   ],
   "source": [
    "from sklearn.model_selection import train_test_split\n",
    "\n",
    "#Training and Test Data for Model Selection\n",
    "X_train, X_test, y_train, y_test= train_test_split(X_new, y_new, test_size=0.25, random_state=0)\n",
    "print(X_train.shape,X_test.shape,y_train.shape,y_test.shape)\n",
    "\n",
    "#Data Pre-Processing\n",
    "from sklearn.preprocessing import StandardScaler\n",
    "scaler=StandardScaler()\n",
    "X_train=scaler.fit_transform(X_train)\n",
    "X_test=scaler.transform(X_test)"
   ]
  },
  {
   "cell_type": "markdown",
   "metadata": {},
   "source": [
    "### Model Selection and Perfromance "
   ]
  },
  {
   "cell_type": "code",
   "execution_count": 16,
   "metadata": {},
   "outputs": [
    {
     "name": "stdout",
     "output_type": "stream",
     "text": [
      "Accuracy :  0.7833433014354066\n",
      "ROC_AUC Score: 0.8330011530225662\n"
     ]
    }
   ],
   "source": [
    "from sklearn.linear_model import LogisticRegression\n",
    "from sklearn.metrics import precision_score,recall_score,accuracy_score,f1_score,confusion_matrix,roc_auc_score,classification_report\n",
    "\n",
    "model=LogisticRegression()\n",
    "model=model.fit(X_train,y_train)\n",
    "y_pred=model.predict(X_test)\n",
    "lr_probability =model.predict_proba(X_test)[:,1]\n",
    "\n",
    "\n",
    "acc_lr=accuracy_score(y_test,y_pred)\n",
    "recall_lr=recall_score(y_test,y_pred)\n",
    "precision_lr=precision_score(y_test,y_pred)\n",
    "f1score_lr=f1_score(y_test,y_pred)\n",
    "AUC_LR=roc_auc_score(y_pred,y_test)\n",
    "\n",
    "print(\"Accuracy : \", accuracy_score(y_test,y_pred))\n",
    "print(\"ROC_AUC Score:\",AUC_LR)"
   ]
  },
  {
   "cell_type": "code",
   "execution_count": 17,
   "metadata": {},
   "outputs": [
    {
     "name": "stdout",
     "output_type": "stream",
     "text": [
      "              precision    recall  f1-score   support\n",
      "\n",
      "           0       0.59      0.96      0.73     51370\n",
      "           1       0.98      0.70      0.82    115830\n",
      "\n",
      "    accuracy                           0.78    167200\n",
      "   macro avg       0.78      0.83      0.78    167200\n",
      "weighted avg       0.86      0.78      0.79    167200\n",
      "\n"
     ]
    }
   ],
   "source": [
    "print(classification_report(y_pred,y_test))"
   ]
  },
  {
   "cell_type": "markdown",
   "metadata": {},
   "source": [
    "### ROC Curve for Logistic Regression  "
   ]
  },
  {
   "cell_type": "code",
   "execution_count": 18,
   "metadata": {},
   "outputs": [
    {
     "data": {
      "image/png": "[encoded data removed]",
      "text/plain": [
       "<Figure size 432x288 with 1 Axes>"
      ]
     },
     "metadata": {},
     "output_type": "display_data"
    }
   ],
   "source": [
    "from sklearn.metrics import roc_curve\n",
    "fpr, tpr, _ = roc_curve(y_test, lr_probability)\n",
    "\n",
    "plt.title('Linear Regression ROC curve')\n",
    "plt.xlabel('FPR (Precision)')\n",
    "plt.ylabel('TPR (Recall)')\n",
    "\n",
    "plt.plot(fpr,tpr)\n",
    "plt.plot((0,1), ls='dashed',color='black')\n",
    "plt.show()"
   ]
  },
  {
   "cell_type": "code",
   "execution_count": 19,
   "metadata": {},
   "outputs": [
    {
     "name": "stdout",
     "output_type": "stream",
     "text": [
      "Accuracy :  0.7833433014354066\n",
      "ROC_AUC Score: 0.8330011530225662\n"
     ]
    }
   ],
   "source": [
    "from sklearn.linear_model import LogisticRegression\n",
    "from sklearn.metrics import precision_score,recall_score,accuracy_score,f1_score,confusion_matrix,roc_auc_score,classification_report\n",
    "\n",
    "model_1=LogisticRegression(penalty='l2', solver='liblinear')\n",
    "model_1=model_1.fit(X_train,y_train)\n",
    "y_pred_1=model_1.predict(X_test)\n",
    "lr_probability =model_1.predict_proba(X_test)[:,1]\n",
    "\n",
    "\n",
    "acc_lr=accuracy_score(y_test,y_pred_1)\n",
    "recall_lr=recall_score(y_test,y_pred_1)\n",
    "precision_lr=precision_score(y_test,y_pred_1)\n",
    "f1score_lr=f1_score(y_test,y_pred_1)\n",
    "AUC_LR=roc_auc_score(y_pred_1,y_test)\n",
    "\n",
    "print(\"Accuracy : \", accuracy_score(y_test,y_pred_1))\n",
    "print(\"ROC_AUC Score:\",AUC_LR)"
   ]
  },
  {
   "cell_type": "markdown",
   "metadata": {},
   "source": [
    "There is no impact of penalty on the Logistic Regression Model and the ROC_AUC score of the model"
   ]
  },
  {
   "cell_type": "markdown",
   "metadata": {},
   "source": [
    "### Random Forest Classifier "
   ]
  },
  {
   "cell_type": "code",
   "execution_count": 20,
   "metadata": {},
   "outputs": [
    {
     "name": "stdout",
     "output_type": "stream",
     "text": [
      "0.9446411483253588\n",
      "ROC_AUC Score: 0.9497179064142162\n"
     ]
    }
   ],
   "source": [
    "from sklearn.ensemble import RandomForestClassifier\n",
    "\n",
    "randomforest = RandomForestClassifier()\n",
    "randomforest=randomforest.fit(X_train, y_train)\n",
    "y_pred_rf = randomforest.predict(X_test)\n",
    "RF_probability = randomforest.predict_proba(X_test)[:,1]\n",
    "\n",
    "\n",
    "\n",
    "AUC_RF=roc_auc_score(y_pred_rf,y_test)\n",
    "acc_rf=accuracy_score(y_test,y_pred_rf)\n",
    "recall_rf=recall_score(y_test,y_pred_rf)\n",
    "precision_rf=precision_score(y_test,y_pred_rf)\n",
    "f1score_rf=f1_score(y_test,y_pred_rf)\n",
    "\n",
    "print(accuracy_score(y_pred_rf,y_test))\n",
    "print(\"ROC_AUC Score:\",AUC_RF)"
   ]
  },
  {
   "cell_type": "code",
   "execution_count": 21,
   "metadata": {},
   "outputs": [
    {
     "name": "stdout",
     "output_type": "stream",
     "text": [
      "              precision    recall  f1-score   support\n",
      "\n",
      "           0       0.89      1.00      0.94     74757\n",
      "           1       1.00      0.90      0.95     92443\n",
      "\n",
      "    accuracy                           0.94    167200\n",
      "   macro avg       0.94      0.95      0.94    167200\n",
      "weighted avg       0.95      0.94      0.94    167200\n",
      "\n"
     ]
    }
   ],
   "source": [
    "print(classification_report(y_pred_rf,y_test))"
   ]
  },
  {
   "cell_type": "code",
   "execution_count": 22,
   "metadata": {},
   "outputs": [
    {
     "data": {
      "image/png": "[encoded data removed]",
      "text/plain": [
       "<Figure size 432x288 with 1 Axes>"
      ]
     },
     "metadata": {},
     "output_type": "display_data"
    }
   ],
   "source": [
    "from sklearn.metrics import roc_curve\n",
    "fpr, tpr, _ = roc_curve(y_test, RF_probability)\n",
    "\n",
    "plt.title('Random Forest ROC curve')\n",
    "plt.xlabel('FPR (Precision)')\n",
    "plt.ylabel('TPR (Recall)')\n",
    "\n",
    "plt.plot(fpr,tpr)\n",
    "plt.plot((0,1), ls='dashed',color='black')\n",
    "plt.show()"
   ]
  },
  {
   "cell_type": "code",
   "execution_count": 23,
   "metadata": {},
   "outputs": [
    {
     "data": {
      "image/png": "[encoded data removed]",
      "text/plain": [
       "<Figure size 576x576 with 1 Axes>"
      ]
     },
     "metadata": {},
     "output_type": "display_data"
    }
   ],
   "source": [
    "title=\"Feature Importances Random Forest\"\n",
    "feat_imp = pd.DataFrame({'importance':randomforest.feature_importances_}) \n",
    "feat_imp['feature'] = X_new.columns\n",
    "feat_imp.sort_values(by='importance', ascending=True, inplace=True)\n",
    "feat_imp = feat_imp.set_index('feature', drop=True)\n",
    "feat_imp.plot.barh(title=title, figsize=(8,8))\n",
    "plt.xlabel('Feature Importance Score')\n",
    "plt.show()"
   ]
  },
  {
   "cell_type": "markdown",
   "metadata": {},
   "source": [
    "### LightGBM Model\n"
   ]
  },
  {
   "cell_type": "code",
   "execution_count": 24,
   "metadata": {},
   "outputs": [
    {
     "name": "stdout",
     "output_type": "stream",
     "text": [
      "Accuracy :  0.8022428229665072\n",
      "ROC_AUC Score: 0.825553766058537\n"
     ]
    }
   ],
   "source": [
    "import time\n",
    "start_time = time.time()\n",
    "\n",
    "import lightgbm as lgb\n",
    "lgb_clf = lgb.LGBMClassifier()\n",
    "lgb_clf.fit(X_train, y_train)\n",
    "y_pred_lgb=lgb_clf.predict(X_test)\n",
    "lgb_accuracy = accuracy_score(y_test, y_pred_lgb)\n",
    "LGB_probability = lgb_clf.predict_proba(X_test)[:,1]\n",
    "\n",
    "AUC_LGB=roc_auc_score(y_pred_lgb,y_test)\n",
    "\n",
    "print(\"Accuracy : \", accuracy_score(y_test, y_pred_lgb))\n",
    "print(\"ROC_AUC Score:\",AUC_LGB)"
   ]
  },
  {
   "cell_type": "code",
   "execution_count": 25,
   "metadata": {},
   "outputs": [],
   "source": [
    "acc_lgb=accuracy_score(y_test,y_pred_lgb)\n",
    "recall_lgb=recall_score(y_test,y_pred_lgb)\n",
    "precision_lgb=precision_score(y_test,y_pred_lgb)\n",
    "f1score_lgb=f1_score(y_test,y_pred_lgb)"
   ]
  },
  {
   "cell_type": "code",
   "execution_count": 26,
   "metadata": {},
   "outputs": [
    {
     "data": {
      "image/png": "[encoded data removed]",
      "text/plain": [
       "<Figure size 432x288 with 1 Axes>"
      ]
     },
     "metadata": {},
     "output_type": "display_data"
    }
   ],
   "source": [
    "from sklearn.metrics import roc_curve\n",
    "fpr, tpr, _ = roc_curve(y_test, LGB_probability)\n",
    "\n",
    "plt.title('LightGBM ROC curve')\n",
    "plt.xlabel('FPR (Precision)')\n",
    "plt.ylabel('TPR (Recall)')\n",
    "\n",
    "plt.plot(fpr,tpr)\n",
    "plt.plot((0,1), ls='dashed',color='black')\n",
    "plt.show()"
   ]
  },
  {
   "cell_type": "code",
   "execution_count": 27,
   "metadata": {},
   "outputs": [
    {
     "name": "stdout",
     "output_type": "stream",
     "text": [
      "--- 104.03961682319641 seconds ---\n"
     ]
    }
   ],
   "source": [
    "print(\"--- %s seconds ---\" % (time.time() - start_time))"
   ]
  },
  {
   "cell_type": "code",
   "execution_count": 28,
   "metadata": {},
   "outputs": [
    {
     "name": "stdout",
     "output_type": "stream",
     "text": [
      "Accuracy :  0.7962081339712919\n",
      "ROC_AUC Score: 0.8225095707886898\n"
     ]
    }
   ],
   "source": [
    "import time\n",
    "start_time = time.time()\n",
    "\n",
    "import lightgbm as lgb\n",
    "lgb_clf = lgb.LGBMClassifier(boosting_type='dart',n_estimators=500,learning_rate=0.01)\n",
    "lgb_clf.fit(X_train, y_train)\n",
    "y_pred_lgb=lgb_clf.predict(X_test)\n",
    "lgb_accuracy = accuracy_score(y_test, y_pred_lgb)\n",
    "AUC_LGB=roc_auc_score(y_pred_lgb,y_test)\n",
    "LGB_probability = lgb_clf.predict_proba(X_test)[:,1]\n",
    "\n",
    "print(\"Accuracy : \", accuracy_score(y_test, y_pred_lgb))\n",
    "print(\"ROC_AUC Score:\",AUC_LGB)"
   ]
  },
  {
   "cell_type": "code",
   "execution_count": 29,
   "metadata": {},
   "outputs": [
    {
     "data": {
      "image/png": "[encoded data removed]",
      "text/plain": [
       "<Figure size 432x288 with 1 Axes>"
      ]
     },
     "metadata": {},
     "output_type": "display_data"
    }
   ],
   "source": [
    "from sklearn.metrics import roc_curve\n",
    "fpr, tpr, _ = roc_curve(y_test, LGB_probability)\n",
    "\n",
    "plt.title('LightGBM ROC curve')\n",
    "plt.xlabel('FPR (Precision)')\n",
    "plt.ylabel('TPR (Recall)')\n",
    "\n",
    "plt.plot(fpr,tpr)\n",
    "plt.plot((0,1), ls='dashed',color='black')\n",
    "plt.show()"
   ]
  },
  {
   "cell_type": "markdown",
   "metadata": {},
   "source": [
    "### XGBoost Clasifier "
   ]
  },
  {
   "cell_type": "code",
   "execution_count": 30,
   "metadata": {},
   "outputs": [
    {
     "name": "stderr",
     "output_type": "stream",
     "text": [
      "/Library/Frameworks/Python.framework/Versions/3.8/lib/python3.8/site-packages/xgboost/sklearn.py:1224: UserWarning: The use of label encoder in XGBClassifier is deprecated and will be removed in a future release. To remove this warning, do the following: 1) Pass option use_label_encoder=False when constructing XGBClassifier object; and 2) Encode your labels (y) as integers starting with 0, i.e. 0, 1, 2, ..., [num_class - 1].\n",
      "  warnings.warn(label_encoder_deprecation_msg, UserWarning)\n"
     ]
    },
    {
     "name": "stdout",
     "output_type": "stream",
     "text": [
      "[20:35:32] WARNING: /Users/runner/work/xgboost/xgboost/src/learner.cc:1115: Starting in XGBoost 1.3.0, the default evaluation metric used with the objective 'binary:logistic' was changed from 'error' to 'logloss'. Explicitly set eval_metric if you'd like to restore the old behavior.\n",
      "0.8117822966507177\n",
      "ROC_AUC Score: 0.8330123761371961\n"
     ]
    }
   ],
   "source": [
    "from xgboost import XGBClassifier\n",
    "from sklearn.metrics import precision_score,recall_score,accuracy_score,f1_score,confusion_matrix,roc_auc_score,classification_report\n",
    "\n",
    "xgb=XGBClassifier()\n",
    "XGB_fit=xgb.fit(X_train, y_train)\n",
    "y_pred_xgb = XGB_fit.predict(X_test)\n",
    "XGB_probability = XGB_fit.predict_proba(X_test)[:,1]\n",
    "\n",
    "acc_xgb=accuracy_score(y_test,y_pred_xgb)\n",
    "recall_xgb=recall_score(y_test,y_pred_xgb)\n",
    "precision_xgb=precision_score(y_test,y_pred_xgb)\n",
    "f1score_xgb=f1_score(y_test,y_pred_xgb)\n",
    "\n",
    "AUC_xgb=roc_auc_score(y_pred_xgb,y_test)\n",
    "\n",
    "\n",
    "print(accuracy_score(y_pred_xgb,y_test))\n",
    "print(\"ROC_AUC Score:\",AUC_xgb)"
   ]
  },
  {
   "cell_type": "code",
   "execution_count": 31,
   "metadata": {},
   "outputs": [
    {
     "data": {
      "image/png": "[encoded data removed]",
      "text/plain": [
       "<Figure size 432x288 with 1 Axes>"
      ]
     },
     "metadata": {},
     "output_type": "display_data"
    }
   ],
   "source": [
    "from sklearn.metrics import roc_curve\n",
    "fpr, tpr, _ = roc_curve(y_test, XGB_probability)\n",
    "\n",
    "plt.title('XGBoost ROC curve')\n",
    "plt.xlabel('FPR (Precision)')\n",
    "plt.ylabel('TPR (Recall)')\n",
    "\n",
    "plt.plot(fpr,tpr)\n",
    "plt.plot((0,1), ls='dashed',color='black')\n",
    "plt.show()"
   ]
  },
  {
   "cell_type": "markdown",
   "metadata": {},
   "source": [
    "### CatBoost Model "
   ]
  },
  {
   "cell_type": "code",
   "execution_count": 32,
   "metadata": {},
   "outputs": [
    {
     "name": "stdout",
     "output_type": "stream",
     "text": [
      "0:\tlearn: 0.6531463\ttotal: 289ms\tremaining: 1.15s\n",
      "1:\tlearn: 0.6208560\ttotal: 580ms\tremaining: 870ms\n",
      "2:\tlearn: 0.5942787\ttotal: 844ms\tremaining: 562ms\n",
      "3:\tlearn: 0.5716761\ttotal: 1.1s\tremaining: 275ms\n",
      "4:\tlearn: 0.5522820\ttotal: 1.36s\tremaining: 0us\n",
      "Accuracy :  0.7913755980861245\n",
      "ROC_AUC Score: 0.8190770363603821\n"
     ]
    }
   ],
   "source": [
    "from catboost import CatBoostClassifier\n",
    "\n",
    "cat_clf = CatBoostClassifier(iterations=5, learning_rate=0.1, #loss_function='CrossEntropy'\n",
    "                        )\n",
    "cat_clf.fit(X_train,y_train)\n",
    "y_pred_cat=cat_clf.predict(X_test)\n",
    "cat_accuracy = accuracy_score(y_test, y_pred_cat)\n",
    "AUC_CAT=roc_auc_score(y_pred_cat,y_test)\n",
    "CAT_probability = cat_clf.predict_proba(X_test)[:,1]\n",
    "\n",
    "print(\"Accuracy : \", accuracy_score(y_test, y_pred_cat))\n",
    "print(\"ROC_AUC Score:\",AUC_CAT)"
   ]
  },
  {
   "cell_type": "code",
   "execution_count": 33,
   "metadata": {},
   "outputs": [],
   "source": [
    "acc_cat=accuracy_score(y_test,y_pred_cat)\n",
    "recall_cat=recall_score(y_test,y_pred_cat)\n",
    "precision_cat=precision_score(y_test,y_pred_cat)\n",
    "f1score_cat=f1_score(y_test,y_pred_cat)\n",
    "\n",
    "AUC_cat=roc_auc_score(y_pred_cat,y_test)"
   ]
  },
  {
   "cell_type": "code",
   "execution_count": 34,
   "metadata": {},
   "outputs": [
    {
     "data": {
      "image/png": "[encoded data removed]",
      "text/plain": [
       "<Figure size 432x288 with 1 Axes>"
      ]
     },
     "metadata": {},
     "output_type": "display_data"
    }
   ],
   "source": [
    "from sklearn.metrics import roc_curve\n",
    "fpr, tpr, _ = roc_curve(y_test, CAT_probability)\n",
    "\n",
    "plt.title('CatBoost ROC curve')\n",
    "plt.xlabel('FPR (Precision)')\n",
    "plt.ylabel('TPR (Recall)')\n",
    "\n",
    "plt.plot(fpr,tpr)\n",
    "plt.plot((0,1), ls='dashed',color='black')\n",
    "plt.show()"
   ]
  },
  {
   "cell_type": "code",
   "execution_count": 35,
   "metadata": {},
   "outputs": [
    {
     "data": {
      "text/html": [
       "<div>\n",
       "<style scoped>\n",
       "    .dataframe tbody tr th:only-of-type {\n",
       "        vertical-align: middle;\n",
       "    }\n",
       "\n",
       "    .dataframe tbody tr th {\n",
       "        vertical-align: top;\n",
       "    }\n",
       "\n",
       "    .dataframe thead th {\n",
       "        text-align: right;\n",
       "    }\n",
       "</style>\n",
       "<table border=\"1\" class=\"dataframe\">\n",
       "  <thead>\n",
       "    <tr style=\"text-align: right;\">\n",
       "      <th></th>\n",
       "      <th>Accuracy</th>\n",
       "      <th>Recall</th>\n",
       "      <th>Precision</th>\n",
       "      <th>f1_score</th>\n",
       "      <th>ROC_AUC</th>\n",
       "    </tr>\n",
       "  </thead>\n",
       "  <tbody>\n",
       "    <tr>\n",
       "      <th>Logistic regression</th>\n",
       "      <td>0.783343</td>\n",
       "      <td>0.976511</td>\n",
       "      <td>0.704196</td>\n",
       "      <td>0.818293</td>\n",
       "      <td>0.833001</td>\n",
       "    </tr>\n",
       "    <tr>\n",
       "      <th>Randomforest</th>\n",
       "      <td>0.944641</td>\n",
       "      <td>0.997953</td>\n",
       "      <td>0.901723</td>\n",
       "      <td>0.947401</td>\n",
       "      <td>0.949718</td>\n",
       "    </tr>\n",
       "    <tr>\n",
       "      <th>XGBClassifier</th>\n",
       "      <td>0.811782</td>\n",
       "      <td>0.938081</td>\n",
       "      <td>0.748717</td>\n",
       "      <td>0.832770</td>\n",
       "      <td>0.833012</td>\n",
       "    </tr>\n",
       "    <tr>\n",
       "      <th>LGBM Classifier</th>\n",
       "      <td>0.802243</td>\n",
       "      <td>0.936082</td>\n",
       "      <td>0.738227</td>\n",
       "      <td>0.825464</td>\n",
       "      <td>0.822510</td>\n",
       "    </tr>\n",
       "    <tr>\n",
       "      <th>CatBoost Classifier</th>\n",
       "      <td>0.791376</td>\n",
       "      <td>0.938740</td>\n",
       "      <td>0.724849</td>\n",
       "      <td>0.818044</td>\n",
       "      <td>0.819077</td>\n",
       "    </tr>\n",
       "  </tbody>\n",
       "</table>\n",
       "</div>"
      ],
      "text/plain": [
       "                     Accuracy    Recall  Precision  f1_score   ROC_AUC\n",
       "Logistic regression  0.783343  0.976511   0.704196  0.818293  0.833001\n",
       "Randomforest         0.944641  0.997953   0.901723  0.947401  0.949718\n",
       "XGBClassifier        0.811782  0.938081   0.748717  0.832770  0.833012\n",
       "LGBM Classifier      0.802243  0.936082   0.738227  0.825464  0.822510\n",
       "CatBoost Classifier  0.791376  0.938740   0.724849  0.818044  0.819077"
      ]
     },
     "execution_count": 35,
     "metadata": {},
     "output_type": "execute_result"
    }
   ],
   "source": [
    "ind=['Logistic regression','Randomforest','XGBClassifier','LGBM Classifier', 'CatBoost Classifier']\n",
    "data={\"Accuracy\":[acc_lr,acc_rf,acc_xgb,acc_lgb,acc_cat],\"Recall\":[recall_lr,recall_rf,recall_xgb,recall_lgb,recall_cat],\"Precision\":[precision_lr,precision_rf,precision_xgb,precision_lgb,precision_cat],\n",
    "    'f1_score':[f1score_lr,f1score_rf,f1score_xgb,f1score_lgb,f1score_cat],\"ROC_AUC\":[AUC_LR,AUC_RF,AUC_xgb,AUC_LGB,AUC_cat]}\n",
    "result=pd.DataFrame(data=data,index=ind)\n",
    "result"
   ]
  },
  {
   "cell_type": "code",
   "execution_count": null,
   "metadata": {},
   "outputs": [],
   "source": []
  },
  {
   "cell_type": "code",
   "execution_count": 36,
   "metadata": {},
   "outputs": [
    {
     "name": "stdout",
     "output_type": "stream",
     "text": [
      "0:\tlearn: 0.6671393\ttotal: 382ms\tremaining: 1m 35s\n",
      "1:\tlearn: 0.6440372\ttotal: 748ms\tremaining: 1m 32s\n",
      "2:\tlearn: 0.6231358\ttotal: 1.32s\tremaining: 1m 48s\n",
      "3:\tlearn: 0.6048815\ttotal: 1.63s\tremaining: 1m 39s\n",
      "4:\tlearn: 0.5885973\ttotal: 1.91s\tremaining: 1m 33s\n",
      "5:\tlearn: 0.5740650\ttotal: 2.17s\tremaining: 1m 28s\n",
      "6:\tlearn: 0.5611525\ttotal: 2.42s\tremaining: 1m 24s\n",
      "7:\tlearn: 0.5497796\ttotal: 2.67s\tremaining: 1m 20s\n",
      "8:\tlearn: 0.5394856\ttotal: 2.93s\tremaining: 1m 18s\n",
      "9:\tlearn: 0.5303899\ttotal: 3.1s\tremaining: 1m 14s\n",
      "10:\tlearn: 0.5246028\ttotal: 3.38s\tremaining: 1m 13s\n",
      "11:\tlearn: 0.5171122\ttotal: 3.64s\tremaining: 1m 12s\n",
      "12:\tlearn: 0.5102793\ttotal: 3.91s\tremaining: 1m 11s\n",
      "13:\tlearn: 0.5058945\ttotal: 4.15s\tremaining: 1m 9s\n",
      "14:\tlearn: 0.5003223\ttotal: 4.47s\tremaining: 1m 10s\n",
      "15:\tlearn: 0.4966728\ttotal: 4.72s\tremaining: 1m 8s\n",
      "16:\tlearn: 0.4919235\ttotal: 5.03s\tremaining: 1m 8s\n",
      "17:\tlearn: 0.4875377\ttotal: 5.26s\tremaining: 1m 7s\n",
      "18:\tlearn: 0.4836729\ttotal: 5.56s\tremaining: 1m 7s\n",
      "19:\tlearn: 0.4811710\ttotal: 5.76s\tremaining: 1m 6s\n",
      "20:\tlearn: 0.4777650\ttotal: 6.07s\tremaining: 1m 6s\n",
      "21:\tlearn: 0.4747655\ttotal: 6.27s\tremaining: 1m 5s\n",
      "22:\tlearn: 0.4728201\ttotal: 6.55s\tremaining: 1m 4s\n",
      "23:\tlearn: 0.4702179\ttotal: 6.8s\tremaining: 1m 4s\n",
      "24:\tlearn: 0.4683820\ttotal: 7.05s\tremaining: 1m 3s\n",
      "25:\tlearn: 0.4667066\ttotal: 7.24s\tremaining: 1m 2s\n",
      "26:\tlearn: 0.4651166\ttotal: 7.52s\tremaining: 1m 2s\n",
      "27:\tlearn: 0.4637714\ttotal: 7.76s\tremaining: 1m 1s\n",
      "28:\tlearn: 0.4617750\ttotal: 8.06s\tremaining: 1m 1s\n",
      "29:\tlearn: 0.4605885\ttotal: 8.26s\tremaining: 1m\n",
      "30:\tlearn: 0.4589065\ttotal: 8.45s\tremaining: 59.7s\n",
      "31:\tlearn: 0.4577917\ttotal: 8.68s\tremaining: 59.1s\n",
      "32:\tlearn: 0.4562343\ttotal: 8.95s\tremaining: 58.9s\n",
      "33:\tlearn: 0.4548016\ttotal: 9.19s\tremaining: 58.4s\n",
      "34:\tlearn: 0.4536236\ttotal: 9.48s\tremaining: 58.2s\n",
      "35:\tlearn: 0.4527769\ttotal: 9.69s\tremaining: 57.6s\n",
      "36:\tlearn: 0.4519421\ttotal: 9.95s\tremaining: 57.3s\n",
      "37:\tlearn: 0.4510872\ttotal: 10.3s\tremaining: 57.2s\n",
      "38:\tlearn: 0.4503966\ttotal: 10.6s\tremaining: 57.1s\n",
      "39:\tlearn: 0.4497503\ttotal: 10.8s\tremaining: 56.9s\n",
      "40:\tlearn: 0.4487901\ttotal: 11.1s\tremaining: 56.6s\n",
      "41:\tlearn: 0.4478396\ttotal: 11.4s\tremaining: 56.4s\n",
      "42:\tlearn: 0.4469107\ttotal: 11.7s\tremaining: 56.3s\n",
      "43:\tlearn: 0.4461473\ttotal: 11.9s\tremaining: 55.6s\n",
      "44:\tlearn: 0.4456506\ttotal: 12.2s\tremaining: 55.4s\n",
      "45:\tlearn: 0.4450490\ttotal: 12.3s\tremaining: 54.8s\n",
      "46:\tlearn: 0.4443769\ttotal: 12.6s\tremaining: 54.5s\n",
      "47:\tlearn: 0.4437280\ttotal: 12.9s\tremaining: 54.4s\n",
      "48:\tlearn: 0.4430951\ttotal: 13.1s\tremaining: 53.9s\n",
      "49:\tlearn: 0.4426442\ttotal: 13.4s\tremaining: 53.7s\n",
      "50:\tlearn: 0.4420183\ttotal: 13.7s\tremaining: 53.5s\n",
      "51:\tlearn: 0.4416968\ttotal: 14.1s\tremaining: 53.6s\n",
      "52:\tlearn: 0.4411767\ttotal: 14.4s\tremaining: 53.4s\n",
      "53:\tlearn: 0.4408432\ttotal: 14.6s\tremaining: 53.1s\n",
      "54:\tlearn: 0.4404022\ttotal: 14.9s\tremaining: 53s\n",
      "55:\tlearn: 0.4399776\ttotal: 15.2s\tremaining: 52.7s\n",
      "56:\tlearn: 0.4395677\ttotal: 15.4s\tremaining: 52.1s\n",
      "57:\tlearn: 0.4392418\ttotal: 15.6s\tremaining: 51.7s\n",
      "58:\tlearn: 0.4388010\ttotal: 15.8s\tremaining: 51.2s\n",
      "59:\tlearn: 0.4384814\ttotal: 16s\tremaining: 50.7s\n",
      "60:\tlearn: 0.4381029\ttotal: 16.3s\tremaining: 50.4s\n",
      "61:\tlearn: 0.4378234\ttotal: 16.5s\tremaining: 50s\n",
      "62:\tlearn: 0.4375112\ttotal: 16.7s\tremaining: 49.6s\n",
      "63:\tlearn: 0.4373093\ttotal: 17s\tremaining: 49.4s\n",
      "64:\tlearn: 0.4370644\ttotal: 17.2s\tremaining: 48.8s\n",
      "65:\tlearn: 0.4368382\ttotal: 17.4s\tremaining: 48.4s\n",
      "66:\tlearn: 0.4364886\ttotal: 17.6s\tremaining: 48.1s\n",
      "67:\tlearn: 0.4362568\ttotal: 17.8s\tremaining: 47.8s\n",
      "68:\tlearn: 0.4360317\ttotal: 18.1s\tremaining: 47.4s\n",
      "69:\tlearn: 0.4357351\ttotal: 18.3s\tremaining: 47.1s\n",
      "70:\tlearn: 0.4355138\ttotal: 18.5s\tremaining: 46.7s\n",
      "71:\tlearn: 0.4352889\ttotal: 18.8s\tremaining: 46.5s\n",
      "72:\tlearn: 0.4350679\ttotal: 19.1s\tremaining: 46.3s\n",
      "73:\tlearn: 0.4349046\ttotal: 19.3s\tremaining: 46s\n",
      "74:\tlearn: 0.4347206\ttotal: 19.5s\tremaining: 45.5s\n",
      "75:\tlearn: 0.4345160\ttotal: 19.7s\tremaining: 45.1s\n",
      "76:\tlearn: 0.4343407\ttotal: 19.9s\tremaining: 44.7s\n",
      "77:\tlearn: 0.4342086\ttotal: 20.1s\tremaining: 44.3s\n",
      "78:\tlearn: 0.4340159\ttotal: 20.4s\tremaining: 44.1s\n",
      "79:\tlearn: 0.4338575\ttotal: 20.6s\tremaining: 43.7s\n",
      "80:\tlearn: 0.4337067\ttotal: 20.7s\tremaining: 43.2s\n",
      "81:\tlearn: 0.4335778\ttotal: 21s\tremaining: 43s\n",
      "82:\tlearn: 0.4334416\ttotal: 21.2s\tremaining: 42.7s\n",
      "83:\tlearn: 0.4333084\ttotal: 21.5s\tremaining: 42.4s\n",
      "84:\tlearn: 0.4332110\ttotal: 21.7s\tremaining: 42.1s\n",
      "85:\tlearn: 0.4330660\ttotal: 21.9s\tremaining: 41.8s\n",
      "86:\tlearn: 0.4329344\ttotal: 22.1s\tremaining: 41.5s\n",
      "87:\tlearn: 0.4328164\ttotal: 22.4s\tremaining: 41.3s\n",
      "88:\tlearn: 0.4326534\ttotal: 22.7s\tremaining: 41s\n",
      "89:\tlearn: 0.4325689\ttotal: 23s\tremaining: 40.8s\n",
      "90:\tlearn: 0.4324106\ttotal: 23.2s\tremaining: 40.6s\n",
      "91:\tlearn: 0.4322616\ttotal: 23.4s\tremaining: 40.2s\n",
      "92:\tlearn: 0.4321588\ttotal: 23.7s\tremaining: 39.9s\n",
      "93:\tlearn: 0.4320246\ttotal: 23.9s\tremaining: 39.6s\n",
      "94:\tlearn: 0.4319536\ttotal: 24.1s\tremaining: 39.4s\n",
      "95:\tlearn: 0.4317794\ttotal: 24.3s\tremaining: 39s\n",
      "96:\tlearn: 0.4316446\ttotal: 24.5s\tremaining: 38.6s\n",
      "97:\tlearn: 0.4315020\ttotal: 24.7s\tremaining: 38.4s\n",
      "98:\tlearn: 0.4313700\ttotal: 25s\tremaining: 38.2s\n",
      "99:\tlearn: 0.4312679\ttotal: 25.4s\tremaining: 38s\n",
      "100:\tlearn: 0.4311881\ttotal: 25.5s\tremaining: 37.7s\n",
      "101:\tlearn: 0.4310651\ttotal: 25.7s\tremaining: 37.4s\n",
      "102:\tlearn: 0.4309542\ttotal: 25.9s\tremaining: 37s\n",
      "103:\tlearn: 0.4308621\ttotal: 26.2s\tremaining: 36.7s\n",
      "104:\tlearn: 0.4307848\ttotal: 26.4s\tremaining: 36.5s\n",
      "105:\tlearn: 0.4307269\ttotal: 26.7s\tremaining: 36.2s\n",
      "106:\tlearn: 0.4306628\ttotal: 27s\tremaining: 36s\n",
      "107:\tlearn: 0.4305819\ttotal: 27.2s\tremaining: 35.7s\n",
      "108:\tlearn: 0.4305160\ttotal: 27.4s\tremaining: 35.5s\n",
      "109:\tlearn: 0.4304138\ttotal: 27.7s\tremaining: 35.2s\n",
      "110:\tlearn: 0.4303723\ttotal: 27.9s\tremaining: 35s\n",
      "111:\tlearn: 0.4303112\ttotal: 28.2s\tremaining: 34.7s\n",
      "112:\tlearn: 0.4301963\ttotal: 28.4s\tremaining: 34.5s\n",
      "113:\tlearn: 0.4301150\ttotal: 28.7s\tremaining: 34.2s\n",
      "114:\tlearn: 0.4300567\ttotal: 28.8s\tremaining: 33.8s\n",
      "115:\tlearn: 0.4300127\ttotal: 29.1s\tremaining: 33.6s\n",
      "116:\tlearn: 0.4299556\ttotal: 29.3s\tremaining: 33.3s\n",
      "117:\tlearn: 0.4298869\ttotal: 29.5s\tremaining: 33s\n",
      "118:\tlearn: 0.4298141\ttotal: 29.7s\tremaining: 32.7s\n",
      "119:\tlearn: 0.4297315\ttotal: 29.9s\tremaining: 32.4s\n",
      "120:\tlearn: 0.4296520\ttotal: 30.2s\tremaining: 32.2s\n",
      "121:\tlearn: 0.4295761\ttotal: 30.5s\tremaining: 32s\n",
      "122:\tlearn: 0.4294979\ttotal: 30.8s\tremaining: 31.8s\n",
      "123:\tlearn: 0.4294216\ttotal: 31s\tremaining: 31.5s\n",
      "124:\tlearn: 0.4293376\ttotal: 31.3s\tremaining: 31.3s\n",
      "125:\tlearn: 0.4292702\ttotal: 31.5s\tremaining: 31s\n",
      "126:\tlearn: 0.4291884\ttotal: 31.8s\tremaining: 30.8s\n",
      "127:\tlearn: 0.4291098\ttotal: 31.9s\tremaining: 30.4s\n",
      "128:\tlearn: 0.4290494\ttotal: 32.1s\tremaining: 30.2s\n",
      "129:\tlearn: 0.4290061\ttotal: 32.4s\tremaining: 29.9s\n",
      "130:\tlearn: 0.4289726\ttotal: 32.7s\tremaining: 29.7s\n",
      "131:\tlearn: 0.4289412\ttotal: 33s\tremaining: 29.5s\n",
      "132:\tlearn: 0.4289023\ttotal: 33.2s\tremaining: 29.2s\n",
      "133:\tlearn: 0.4288633\ttotal: 33.5s\tremaining: 29s\n",
      "134:\tlearn: 0.4288277\ttotal: 33.7s\tremaining: 28.7s\n",
      "135:\tlearn: 0.4287995\ttotal: 34s\tremaining: 28.5s\n",
      "136:\tlearn: 0.4287567\ttotal: 34.3s\tremaining: 28.3s\n",
      "137:\tlearn: 0.4287286\ttotal: 34.6s\tremaining: 28.1s\n",
      "138:\tlearn: 0.4286806\ttotal: 34.9s\tremaining: 27.9s\n",
      "139:\tlearn: 0.4286396\ttotal: 35.1s\tremaining: 27.6s\n",
      "140:\tlearn: 0.4286073\ttotal: 35.5s\tremaining: 27.4s\n",
      "141:\tlearn: 0.4285604\ttotal: 35.7s\tremaining: 27.2s\n",
      "142:\tlearn: 0.4284984\ttotal: 36s\tremaining: 27s\n",
      "143:\tlearn: 0.4284601\ttotal: 36.3s\tremaining: 26.7s\n",
      "144:\tlearn: 0.4284252\ttotal: 36.5s\tremaining: 26.4s\n",
      "145:\tlearn: 0.4284097\ttotal: 36.7s\tremaining: 26.2s\n",
      "146:\tlearn: 0.4283372\ttotal: 37s\tremaining: 25.9s\n",
      "147:\tlearn: 0.4282617\ttotal: 37.2s\tremaining: 25.6s\n",
      "148:\tlearn: 0.4282326\ttotal: 37.4s\tremaining: 25.4s\n",
      "149:\tlearn: 0.4281995\ttotal: 37.6s\tremaining: 25.1s\n",
      "150:\tlearn: 0.4281615\ttotal: 37.8s\tremaining: 24.8s\n",
      "151:\tlearn: 0.4280919\ttotal: 38s\tremaining: 24.5s\n",
      "152:\tlearn: 0.4280343\ttotal: 38.2s\tremaining: 24.2s\n",
      "153:\tlearn: 0.4279891\ttotal: 38.4s\tremaining: 23.9s\n",
      "154:\tlearn: 0.4279468\ttotal: 38.6s\tremaining: 23.7s\n",
      "155:\tlearn: 0.4279042\ttotal: 38.9s\tremaining: 23.4s\n",
      "156:\tlearn: 0.4278344\ttotal: 39.1s\tremaining: 23.1s\n",
      "157:\tlearn: 0.4278138\ttotal: 39.3s\tremaining: 22.9s\n",
      "158:\tlearn: 0.4277771\ttotal: 39.5s\tremaining: 22.6s\n",
      "159:\tlearn: 0.4277114\ttotal: 39.7s\tremaining: 22.3s\n",
      "160:\tlearn: 0.4276747\ttotal: 40s\tremaining: 22.1s\n",
      "161:\tlearn: 0.4276203\ttotal: 40.1s\tremaining: 21.8s\n"
     ]
    },
    {
     "name": "stdout",
     "output_type": "stream",
     "text": [
      "162:\tlearn: 0.4275853\ttotal: 40.4s\tremaining: 21.5s\n",
      "163:\tlearn: 0.4275356\ttotal: 40.5s\tremaining: 21.3s\n",
      "164:\tlearn: 0.4274786\ttotal: 40.8s\tremaining: 21s\n",
      "165:\tlearn: 0.4274577\ttotal: 40.9s\tremaining: 20.7s\n",
      "166:\tlearn: 0.4274335\ttotal: 41.1s\tremaining: 20.4s\n",
      "167:\tlearn: 0.4274042\ttotal: 41.3s\tremaining: 20.2s\n",
      "168:\tlearn: 0.4273649\ttotal: 41.6s\tremaining: 19.9s\n",
      "169:\tlearn: 0.4273395\ttotal: 41.8s\tremaining: 19.7s\n",
      "170:\tlearn: 0.4272945\ttotal: 42s\tremaining: 19.4s\n",
      "171:\tlearn: 0.4272652\ttotal: 42.2s\tremaining: 19.1s\n",
      "172:\tlearn: 0.4272314\ttotal: 42.4s\tremaining: 18.9s\n",
      "173:\tlearn: 0.4271923\ttotal: 42.6s\tremaining: 18.6s\n",
      "174:\tlearn: 0.4271768\ttotal: 42.8s\tremaining: 18.3s\n",
      "175:\tlearn: 0.4271380\ttotal: 43s\tremaining: 18.1s\n",
      "176:\tlearn: 0.4271224\ttotal: 43.2s\tremaining: 17.8s\n",
      "177:\tlearn: 0.4270874\ttotal: 43.3s\tremaining: 17.5s\n",
      "178:\tlearn: 0.4270609\ttotal: 43.6s\tremaining: 17.3s\n",
      "179:\tlearn: 0.4269852\ttotal: 43.7s\tremaining: 17s\n",
      "180:\tlearn: 0.4269546\ttotal: 44s\tremaining: 16.8s\n",
      "181:\tlearn: 0.4269111\ttotal: 44.2s\tremaining: 16.5s\n",
      "182:\tlearn: 0.4268931\ttotal: 44.3s\tremaining: 16.2s\n",
      "183:\tlearn: 0.4268436\ttotal: 44.5s\tremaining: 16s\n",
      "184:\tlearn: 0.4268188\ttotal: 44.8s\tremaining: 15.7s\n",
      "185:\tlearn: 0.4267941\ttotal: 44.9s\tremaining: 15.5s\n",
      "186:\tlearn: 0.4267470\ttotal: 45.1s\tremaining: 15.2s\n",
      "187:\tlearn: 0.4267172\ttotal: 45.3s\tremaining: 14.9s\n",
      "188:\tlearn: 0.4266943\ttotal: 45.6s\tremaining: 14.7s\n",
      "189:\tlearn: 0.4266619\ttotal: 45.8s\tremaining: 14.5s\n",
      "190:\tlearn: 0.4266437\ttotal: 46s\tremaining: 14.2s\n",
      "191:\tlearn: 0.4266172\ttotal: 46.2s\tremaining: 14s\n",
      "192:\tlearn: 0.4266022\ttotal: 46.4s\tremaining: 13.7s\n",
      "193:\tlearn: 0.4265767\ttotal: 46.6s\tremaining: 13.5s\n",
      "194:\tlearn: 0.4265331\ttotal: 46.8s\tremaining: 13.2s\n",
      "195:\tlearn: 0.4264959\ttotal: 47s\tremaining: 13s\n",
      "196:\tlearn: 0.4264804\ttotal: 47.2s\tremaining: 12.7s\n",
      "197:\tlearn: 0.4264457\ttotal: 47.5s\tremaining: 12.5s\n",
      "198:\tlearn: 0.4264227\ttotal: 47.7s\tremaining: 12.2s\n",
      "199:\tlearn: 0.4263795\ttotal: 47.9s\tremaining: 12s\n",
      "200:\tlearn: 0.4263556\ttotal: 48.1s\tremaining: 11.7s\n",
      "201:\tlearn: 0.4263164\ttotal: 48.3s\tremaining: 11.5s\n",
      "202:\tlearn: 0.4262763\ttotal: 48.5s\tremaining: 11.2s\n",
      "203:\tlearn: 0.4262415\ttotal: 48.7s\tremaining: 11s\n",
      "204:\tlearn: 0.4262197\ttotal: 49s\tremaining: 10.8s\n",
      "205:\tlearn: 0.4262010\ttotal: 49.2s\tremaining: 10.5s\n",
      "206:\tlearn: 0.4261817\ttotal: 49.5s\tremaining: 10.3s\n",
      "207:\tlearn: 0.4261595\ttotal: 49.6s\tremaining: 10s\n",
      "208:\tlearn: 0.4261221\ttotal: 49.9s\tremaining: 9.78s\n",
      "209:\tlearn: 0.4260919\ttotal: 50s\tremaining: 9.53s\n",
      "210:\tlearn: 0.4260724\ttotal: 50.2s\tremaining: 9.28s\n",
      "211:\tlearn: 0.4260404\ttotal: 50.4s\tremaining: 9.04s\n",
      "212:\tlearn: 0.4260062\ttotal: 50.6s\tremaining: 8.8s\n",
      "213:\tlearn: 0.4259699\ttotal: 50.8s\tremaining: 8.55s\n",
      "214:\tlearn: 0.4259457\ttotal: 51s\tremaining: 8.31s\n",
      "215:\tlearn: 0.4259255\ttotal: 51.2s\tremaining: 8.06s\n",
      "216:\tlearn: 0.4259126\ttotal: 51.5s\tremaining: 7.83s\n",
      "217:\tlearn: 0.4258965\ttotal: 51.6s\tremaining: 7.58s\n",
      "218:\tlearn: 0.4258371\ttotal: 51.8s\tremaining: 7.34s\n",
      "219:\tlearn: 0.4258040\ttotal: 52.1s\tremaining: 7.1s\n",
      "220:\tlearn: 0.4257742\ttotal: 52.2s\tremaining: 6.85s\n",
      "221:\tlearn: 0.4257471\ttotal: 52.4s\tremaining: 6.61s\n",
      "222:\tlearn: 0.4257219\ttotal: 52.6s\tremaining: 6.37s\n",
      "223:\tlearn: 0.4256946\ttotal: 52.9s\tremaining: 6.14s\n",
      "224:\tlearn: 0.4256839\ttotal: 53s\tremaining: 5.89s\n",
      "225:\tlearn: 0.4256568\ttotal: 53.3s\tremaining: 5.66s\n",
      "226:\tlearn: 0.4256379\ttotal: 53.5s\tremaining: 5.42s\n",
      "227:\tlearn: 0.4256229\ttotal: 53.6s\tremaining: 5.17s\n",
      "228:\tlearn: 0.4255985\ttotal: 53.8s\tremaining: 4.93s\n",
      "229:\tlearn: 0.4255802\ttotal: 54.1s\tremaining: 4.7s\n",
      "230:\tlearn: 0.4255535\ttotal: 54.3s\tremaining: 4.47s\n",
      "231:\tlearn: 0.4255394\ttotal: 54.6s\tremaining: 4.23s\n",
      "232:\tlearn: 0.4255193\ttotal: 54.7s\tremaining: 3.99s\n",
      "233:\tlearn: 0.4254901\ttotal: 54.9s\tremaining: 3.76s\n",
      "234:\tlearn: 0.4254810\ttotal: 55.1s\tremaining: 3.52s\n",
      "235:\tlearn: 0.4254337\ttotal: 55.3s\tremaining: 3.28s\n",
      "236:\tlearn: 0.4254206\ttotal: 55.6s\tremaining: 3.05s\n",
      "237:\tlearn: 0.4253964\ttotal: 55.8s\tremaining: 2.81s\n",
      "238:\tlearn: 0.4253740\ttotal: 56s\tremaining: 2.58s\n",
      "239:\tlearn: 0.4253509\ttotal: 56.1s\tremaining: 2.34s\n",
      "240:\tlearn: 0.4253373\ttotal: 56.5s\tremaining: 2.11s\n",
      "241:\tlearn: 0.4253138\ttotal: 56.7s\tremaining: 1.87s\n",
      "242:\tlearn: 0.4252892\ttotal: 56.9s\tremaining: 1.64s\n",
      "243:\tlearn: 0.4252773\ttotal: 57.1s\tremaining: 1.4s\n",
      "244:\tlearn: 0.4252446\ttotal: 57.3s\tremaining: 1.17s\n",
      "245:\tlearn: 0.4252277\ttotal: 57.5s\tremaining: 934ms\n",
      "246:\tlearn: 0.4252086\ttotal: 57.6s\tremaining: 700ms\n",
      "247:\tlearn: 0.4251956\ttotal: 57.8s\tremaining: 467ms\n",
      "248:\tlearn: 0.4251800\ttotal: 58.1s\tremaining: 233ms\n",
      "249:\tlearn: 0.4251504\ttotal: 58.3s\tremaining: 0us\n",
      "Accuracy :  0.795011961722488\n",
      "ROC_AUC Score: 0.8205019757440416\n"
     ]
    }
   ],
   "source": [
    "from catboost import CatBoostClassifier\n",
    "\n",
    "cat_clf = CatBoostClassifier(border_count= 32, \n",
    "                             depth= 3, \n",
    "                             iterations= 250, \n",
    "                             l2_leaf_reg= 1, \n",
    "                             learning_rate=0.03, \n",
    "                             thread_count= 4, verbose=False)\n",
    "cat_clf.fit(X_train,y_train)\n",
    "y_pred_cat=cat_clf.predict(X_test)\n",
    "cat_accuracy = accuracy_score(y_test, y_pred_cat)\n",
    "AUC_CAT=roc_auc_score(y_pred_cat,y_test)\n",
    "CAT_probability = cat_clf.predict_proba(X_test)[:,1]\n",
    "\n",
    "print(\"Accuracy : \", accuracy_score(y_test, y_pred_cat))\n",
    "print(\"ROC_AUC Score:\",AUC_CAT)"
   ]
  },
  {
   "cell_type": "code",
   "execution_count": null,
   "metadata": {},
   "outputs": [],
   "source": []
  }
 ],
 "metadata": {
  "kernelspec": {
   "display_name": "Python 3",
   "language": "python",
   "name": "python3"
  },
  "language_info": {
   "codemirror_mode": {
    "name": "ipython",
    "version": 3
   },
   "file_extension": ".py",
   "mimetype": "text/x-python",
   "name": "python",
   "nbconvert_exporter": "python",
   "pygments_lexer": "ipython3",
   "version": "3.8.0"
  }
 },
 "nbformat": 4,
 "nbformat_minor": 4
}
